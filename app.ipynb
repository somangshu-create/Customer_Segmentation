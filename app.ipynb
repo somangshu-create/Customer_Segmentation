{
 "cells": [
  {
   "cell_type": "code",
   "execution_count": 6,
   "id": "4b9a0325",
   "metadata": {},
   "outputs": [],
   "source": [
    "import streamlit as st\n",
    "import joblib\n",
    "import pandas as pd\n",
    "\n"
   ]
  },
  {
   "cell_type": "code",
   "execution_count": 8,
   "id": "5b0e38f5",
   "metadata": {},
   "outputs": [],
   "source": [
    "def header():\n",
    "    \n",
    "    # getting the model \n",
    "    \n",
    "    file = \"Customer_Segmentation\"\n",
    "    loaded_model = joblib.load(file)\n",
    "    \n",
    "    # Web App Title\n",
    "    st.write(\"\"\"\n",
    "    ## Prediction for Customer Segmentation app\n",
    "    \n",
    "    #### Developed by: Somangshu Chakraborty\n",
    "    \n",
    "    This is a web application built and hosted on Streamlit, whose purpose is to segment customers. In this project we deal with a **clustering** problem.\n",
    "    \n",
    "    \"\"\")\n",
    "    \n",
    "    \n",
    "    return loaded_model"
   ]
  },
  {
   "cell_type": "code",
   "execution_count": 9,
   "id": "c57efa0b",
   "metadata": {},
   "outputs": [],
   "source": [
    "def Predict_Points(input_data,loaded_model):\n",
    "    \n",
    "    #predict\n",
    "    prediction = loaded_model.predict(input_data)\n",
    "\n",
    "    \n",
    "    #show the result\n",
    "    if(prediction == 0):\n",
    "        st.markdown(''' #### You are part of group 1:\n",
    "                    ''')\n",
    "        st.write(\"\"\"In this group the quantity of goods ordered is about 27.5, the price of each good purchased is approximately 100 dollars.\n",
    "                 In addition, total purchases are approximately 3000 dollars, the largest purchases occur in December and the most consumed \n",
    "                 product line is classic cars, and the agreements with these individuals are medium to small.\"\"\")\n",
    "    else:\n",
    "        if(prediction == 1):\n",
    "            st.markdown(''' #### You are part of group 2:\n",
    "                        ''')\n",
    "            st.write(\"\"\"\n",
    "                     In this group, the quantity of goods ordered is about 45, purchases more products in the range of 100 dollars, \n",
    "                     as well as having total purchases of about 4000 dollars. Their purchases occur more frequently in December and the most consumed product line is classic cars.\n",
    "                     The agreements with this group are medium-sized\"\"\")\n",
    "        elif(prediction == 2):\n",
    "            st.markdown(''' #### You are part of group 3:\n",
    "                        ''')\n",
    "            st.write(\"\"\"\n",
    "                     In this group, the quantity of goods ordered is about 45, purchases more products in the range of 100 dollars, \n",
    "                     as well as having total purchases of about 4000 dollars. Their purchases occur more frequently in December and the most consumed product line is classic cars.\n",
    "                     The agreements with this group are medium-sized\"\"\")\n",
    "        elif (prediction==3):\n",
    "            st.markdown(''' #### You are part of group 4:\n",
    "                        ''')\n",
    "            st.write(\"\"\"\n",
    "                     In this group, the quantity of goods ordered is about 45, purchases more products in the range of 100 dollars, \n",
    "                     as well as having total purchases of about 4000 dollars. Their purchases occur more frequently in December and the most consumed product line is classic cars.\n",
    "                     The agreements with this group are medium-sized\"\"\")\n",
    "        else:\n",
    "            st.markdown(''' #### You are part of group 5:\n",
    "                        ''')\n",
    "            st.write(\"\"\"\n",
    "                     In this group, the amount of merchandise ordered is about 30, buys more products in the range of 65 dollars, \n",
    "                     as well as having total purchases of about 1600 dollars. This group buys more in December and the most purchased \n",
    "                     product line is vintage cars. Agreements with this group are small.\n",
    "                     \"\"\")\n",
    "    "
   ]
  },
  {
   "cell_type": "code",
   "execution_count": 14,
   "id": "4d0c2749",
   "metadata": {},
   "outputs": [],
   "source": [
    "def code():\n",
    "    #load model\n",
    "    loaded_model = header()\n",
    "    \n",
    "    #customer input\n",
    "    form = st.form(key='som')\n",
    "    AGE = form.number_input('Whats the customer age?' ,key='1', min_value=10,value=75,step=1)\n",
    "    ANNUAL_INCOME = form.number_input('what is the approximate annual income in K$ of the customer ?',value=100,key='2')\n",
    "    SPENDING_SCORE = form.number_input(\"What type of spender the customer is at the moment ?\",key='3')\n",
    "    \n",
    "    form.form_submit_button('Add')\n",
    "    \n",
    "    #dataset creation\n",
    "    data = [[AGE,ANNUAL_INCOME,SPENDING_SCORE]]\n",
    "    columns = ['Age','Annual Income (k$)','Spending Score (1-100)']\n",
    "    \n",
    "    #insert\n",
    "    df = pd.DataFrame(data=data, columns=columns)\n",
    "    \n",
    "    #creating a button for prediction\n",
    "    if st.button('Result'):\n",
    "        Predict_Points(data,loaded_model)\n",
    "        \n",
    "    "
   ]
  },
  {
   "cell_type": "code",
   "execution_count": 15,
   "id": "0fb8f805",
   "metadata": {},
   "outputs": [],
   "source": [
    "if __name__ == '__main__':\n",
    "    code()"
   ]
  },
  {
   "cell_type": "code",
   "execution_count": null,
   "id": "f34ec067",
   "metadata": {},
   "outputs": [],
   "source": []
  }
 ],
 "metadata": {
  "kernelspec": {
   "display_name": "Python 3",
   "language": "python",
   "name": "python3"
  },
  "language_info": {
   "codemirror_mode": {
    "name": "ipython",
    "version": 3
   },
   "file_extension": ".py",
   "mimetype": "text/x-python",
   "name": "python",
   "nbconvert_exporter": "python",
   "pygments_lexer": "ipython3",
   "version": "3.8.8"
  }
 },
 "nbformat": 4,
 "nbformat_minor": 5
}
